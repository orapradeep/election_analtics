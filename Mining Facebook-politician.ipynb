{
 "cells": [
  {
   "cell_type": "markdown",
   "metadata": {
    "deletable": true,
    "editable": true
   },
   "source": [
    "# Mining the Social Web\n",
    "\n",
    "## Mining Facebook\n",
    "\n",
    "This Jupyter Notebook provides an interactive way to follow along with the video lectures. The intent behind this notebook is to reinforce the concepts in a fun, convenient, and effective way."
   ]
  },
  {
   "cell_type": "markdown",
   "metadata": {
    "deletable": true,
    "editable": true
   },
   "source": [
    "# Facebook API Access\n",
    "\n",
    "Facebook implements OAuth 2.0 as its standard authentication mechanism, but provides a convenient way for you to get an _access token_ for development purposes, and we'll opt to take advantage of that convenience in this notebook.\n",
    "\n",
    "To get started, log in to your Facebook account and go to https://developers.facebook.com/tools/explorer/ to obtain an ACCESS_TOKEN, and then paste it into the code cell below."
   ]
  },
  {
   "cell_type": "code",
   "execution_count": 1,
   "metadata": {
    "collapsed": false,
    "deletable": true,
    "editable": true
   },
   "outputs": [],
   "source": [
    "# Copy and paste in the value you just got from the inline frame into this variable and execute this cell.\n",
    "# Keep in mind that you could have just gone to https://developers.facebook.com/tools/access_token/\n",
    "# and retrieved the \"User Token\" value from the Access Token Tool\n",
    "\n",
    "ACCESS_TOKEN = 'EAAc4S1TR8AsBAIhNovWG7pZBVE29ZB1DxR01GeKYRvR9bcfo55l2TPBHGumHzxcB0Wel680bONdRZC1WfFj6oumKZB59qCDnijKY81AZCLcH4rBcu8h0NWOazfVHPIpnavTLklbWZCyQx7AMb2BWpfb8TAZC7xfB17y7DNoYOC9lWxJ0kUSVhf17CNGvYl8qgEFS1yhs3mihQZDZD'"
   ]
  },
  {
   "cell_type": "markdown",
   "metadata": {
    "deletable": true,
    "editable": true
   },
   "source": [
    "## Making Graph API requests over HTTP"
   ]
  },
  {
   "cell_type": "code",
   "execution_count": 2,
   "metadata": {
    "collapsed": false,
    "deletable": true,
    "editable": true
   },
   "outputs": [],
   "source": [
    "import requests # pip install requests\n",
    "import json\n",
    "\n",
    "base_url = 'https://graph.facebook.com/me'\n",
    "\n",
    "# Specify which fields to retrieve\n",
    "fields = 'id,name,likes'\n",
    "\n",
    "url = '{0}?fields={1}&access_token={2}'.format(base_url, fields, ACCESS_TOKEN)"
   ]
  },
  {
   "cell_type": "code",
   "execution_count": 3,
   "metadata": {
    "collapsed": false,
    "deletable": true,
    "editable": true
   },
   "outputs": [
    {
     "name": "stdout",
     "output_type": "stream",
     "text": [
      "https://graph.facebook.com/me?fields=id,name,likes&access_token=EAAc4S1TR8AsBAIhNovWG7pZBVE29ZB1DxR01GeKYRvR9bcfo55l2TPBHGumHzxcB0Wel680bONdRZC1WfFj6oumKZB59qCDnijKY81AZCLcH4rBcu8h0NWOazfVHPIpnavTLklbWZCyQx7AMb2BWpfb8TAZC7xfB17y7DNoYOC9lWxJ0kUSVhf17CNGvYl8qgEFS1yhs3mihQZDZD\n"
     ]
    }
   ],
   "source": [
    "# This API is HTTP-based and could be requested in the browser,\n",
    "# with a command line utlity like curl, or using just about\n",
    "# any programming language by making a request to the URL.\n",
    "# Click the hyperlink that appears in your notebook output\n",
    "# when you execute this code cell to see for yourself...\n",
    "print(url)"
   ]
  },
  {
   "cell_type": "code",
   "execution_count": 4,
   "metadata": {
    "collapsed": true,
    "deletable": true,
    "editable": true
   },
   "outputs": [],
   "source": [
    "# Interpret the response as JSON and convert back\n",
    "# to Python data structures\n",
    "content = requests.get(url).json()"
   ]
  },
  {
   "cell_type": "code",
   "execution_count": 5,
   "metadata": {
    "collapsed": false,
    "deletable": true,
    "editable": true
   },
   "outputs": [
    {
     "name": "stdout",
     "output_type": "stream",
     "text": [
      "{\n",
      " \"error\": {\n",
      "  \"error_subcode\": 463,\n",
      "  \"message\": \"Error validating access token: Session has expired on Tuesday, 13-Feb-18 18:00:00 PST. The current time is Tuesday, 13-Feb-18 19:04:04 PST.\",\n",
      "  \"type\": \"OAuthException\",\n",
      "  \"fbtrace_id\": \"Az4qdLO53jv\",\n",
      "  \"code\": 190\n",
      " }\n",
      "}\n"
     ]
    }
   ],
   "source": [
    "# Pretty-print the JSON and display it\n",
    "print(json.dumps(content, indent=1))"
   ]
  },
  {
   "cell_type": "markdown",
   "metadata": {
    "deletable": true,
    "editable": true
   },
   "source": [
    "## Querying the Graph API with Python\n",
    "\n",
    "Facebook SDK for Python API reference:\n",
    "http://facebook-sdk.readthedocs.io/en/v2.0.0/api.html"
   ]
  },
  {
   "cell_type": "code",
   "execution_count": 22,
   "metadata": {
    "collapsed": false,
    "deletable": true,
    "editable": true
   },
   "outputs": [],
   "source": [
    "import facebook # pip install facebook-sdk\n",
    "\n",
    "# Create a connection to the Graph API with your access token\n",
    "g = facebook.GraphAPI(ACCESS_TOKEN, version='2.7')"
   ]
  },
  {
   "cell_type": "code",
   "execution_count": 23,
   "metadata": {
    "collapsed": false,
    "deletable": true,
    "editable": true
   },
   "outputs": [
    {
     "data": {
      "text/plain": [
       "{'id': '1790927340942140', 'name': 'Pradeep Naulia'}"
      ]
     },
     "execution_count": 23,
     "metadata": {},
     "output_type": "execute_result"
    }
   ],
   "source": [
    "# Get my ID\n",
    "g.get_object('me')"
   ]
  },
  {
   "cell_type": "code",
   "execution_count": 25,
   "metadata": {
    "collapsed": false,
    "deletable": true,
    "editable": true
   },
   "outputs": [
    {
     "data": {
      "text/plain": [
       "{'data': [{'id': '1411328522467742', 'name': '1Malaysia'},\n",
       "  {'id': '335208713325845', 'name': '1Malaysia Rugby'}],\n",
       " 'paging': {'cursors': {'after': 'MzM1MjA4NzEzMzI1ODQ1',\n",
       "   'before': 'MTQxMTMyODUyMjQ2Nzc0MgZDZD'}}}"
      ]
     },
     "execution_count": 25,
     "metadata": {},
     "output_type": "execute_result"
    }
   ],
   "source": [
    "# Get the connections to an ID\n",
    "# Example connection names: 'feed', 'likes', 'groups', 'posts'\n",
    "g.get_connections(id='157851205951', connection_name='likes')"
   ]
  },
  {
   "cell_type": "code",
   "execution_count": 26,
   "metadata": {
    "collapsed": false,
    "deletable": true,
    "editable": true,
    "scrolled": false
   },
   "outputs": [
    {
     "data": {
      "text/plain": [
       "{'data': [{'id': '107674002595670',\n",
       "   'location': {'latitude': 2.316667, 'longitude': 111.55},\n",
       "   'name': 'Malaysia'},\n",
       "  {'id': '592252660910967',\n",
       "   'location': {'city': 'Klitren',\n",
       "    'country': 'Indonesia',\n",
       "    'latitude': 4.0384108610356,\n",
       "    'longitude': 102.17240856251,\n",
       "    'street': 'md syed �kuala lumpur_�malaysia'},\n",
       "   'name': 'Asia/Kuala_Lumpur'},\n",
       "  {'id': '110175812339004',\n",
       "   'location': {'latitude': 4.75, 'longitude': 103},\n",
       "   'name': 'Terengganu'},\n",
       "  {'id': '122611491158534',\n",
       "   'location': {'latitude': 5.25, 'longitude': 102},\n",
       "   'name': 'Kelantan'},\n",
       "  {'id': '109160259106183',\n",
       "   'location': {'city': 'Kampung Pisang',\n",
       "    'country': 'Malaysia',\n",
       "    'latitude': 4.78333,\n",
       "    'longitude': 103.033},\n",
       "   'name': 'Kampung Pisang, Terengganu, Malaysia'},\n",
       "  {'id': '130821256998786',\n",
       "   'location': {'latitude': 1.36726280007, 'longitude': 103.8497613},\n",
       "   'name': 'Pahang'},\n",
       "  {'id': '103953236307165',\n",
       "   'location': {'city': 'Merchang',\n",
       "    'country': 'Malaysia',\n",
       "    'latitude': 5.03333333,\n",
       "    'longitude': 103.3},\n",
       "   'name': 'Merchang'},\n",
       "  {'id': '104108142958977',\n",
       "   'location': {'city': 'Kuala Berang',\n",
       "    'country': 'Malaysia',\n",
       "    'latitude': 5.06666667,\n",
       "    'longitude': 103.01666667},\n",
       "   'name': 'Kuala Berang'},\n",
       "  {'id': '111869718829274',\n",
       "   'location': {'city': 'Kuala Terengganu',\n",
       "    'country': 'Malaysia',\n",
       "    'latitude': 5.33333,\n",
       "    'longitude': 103.15,\n",
       "    'zip': '20xxx'},\n",
       "   'name': 'Kuala Terengganu'},\n",
       "  {'id': '106217229410166',\n",
       "   'location': {'latitude': 4.61666667, 'longitude': 103.21666667},\n",
       "   'name': 'Bandar Al-Muktafi Billah Shah'},\n",
       "  {'id': '106047529427254',\n",
       "   'location': {'city': 'Kuala Dungun',\n",
       "    'country': 'Malaysia',\n",
       "    'latitude': 4.7833333333333,\n",
       "    'longitude': 103.43333333333},\n",
       "   'name': 'Kuala Dungun'},\n",
       "  {'id': '529268457255404',\n",
       "   'location': {'city': 'Paka',\n",
       "    'country': 'Malaysia',\n",
       "    'latitude': 4.6452197304685,\n",
       "    'longitude': 103.34292330296},\n",
       "   'name': 'Hentian Rehat Paka Terengganu'},\n",
       "  {'id': '731390183540206',\n",
       "   'location': {'city': 'Ajil',\n",
       "    'country': 'Malaysia',\n",
       "    'latitude': 5.0875191485996,\n",
       "    'longitude': 103.07536106873,\n",
       "    'street': 'Bangunan Depoh Penyelenggaraan, Lebuhraya Pantai Timur Fasa 2, Persimpangan Bertingkat',\n",
       "    'zip': '21800'},\n",
       "   'name': 'Lebuhraya Pantai Timur Fasa II'},\n",
       "  {'id': '104283502945667',\n",
       "   'location': {'city': 'Kampung Dendang',\n",
       "    'country': 'Malaysia',\n",
       "    'latitude': 4.81667,\n",
       "    'longitude': 103.167},\n",
       "   'name': 'Kampung Dendang, Terengganu, Malaysia'},\n",
       "  {'id': '108883239132925',\n",
       "   'location': {'city': 'Kampong Pengkalan Berangan',\n",
       "    'country': 'Malaysia',\n",
       "    'latitude': 5.1,\n",
       "    'longitude': 103.15},\n",
       "   'name': 'Kampong Pengkalan Berangan, Terengganu, Malaysia'},\n",
       "  {'id': '109423142413400',\n",
       "   'location': {'city': 'Kuala Brang',\n",
       "    'country': 'Malaysia',\n",
       "    'latitude': 5.06667,\n",
       "    'longitude': 103.017},\n",
       "   'name': 'Kuala Brang, Terengganu, Malaysia'},\n",
       "  {'id': '116261048388654',\n",
       "   'location': {'city': 'Kampung Kuala Menjing',\n",
       "    'country': 'Malaysia',\n",
       "    'latitude': 5.01614110029,\n",
       "    'longitude': 102.989195645},\n",
       "   'name': 'Kampung Kuala Menjing, Terengganu, Malaysia'},\n",
       "  {'id': '109445422413502',\n",
       "   'location': {'city': 'Kampong Kepong',\n",
       "    'country': 'Malaysia',\n",
       "    'latitude': 5.26667,\n",
       "    'longitude': 103.1},\n",
       "   'name': 'Kampong Kepong, Terengganu, Malaysia'},\n",
       "  {'id': '967911979929807',\n",
       "   'location': {'city': 'Dungun',\n",
       "    'country': 'Malaysia',\n",
       "    'latitude': 4.79096,\n",
       "    'longitude': 103.21616,\n",
       "    'street': 'Batu 8, Off Jalan Dungun',\n",
       "    'zip': '23000'},\n",
       "   'name': 'Tanjong Jara Resort'},\n",
       "  {'id': '107491589288133',\n",
       "   'location': {'city': 'Kampong Shukor',\n",
       "    'country': 'Malaysia',\n",
       "    'latitude': 4.58333,\n",
       "    'longitude': 103},\n",
       "   'name': 'Kampong Shukor, Terengganu, Malaysia'},\n",
       "  {'id': '103803519658729',\n",
       "   'location': {'city': 'Bukit Besi',\n",
       "    'country': 'Malaysia',\n",
       "    'latitude': 4.76667,\n",
       "    'longitude': 103.2},\n",
       "   'name': 'Bukit Besi'},\n",
       "  {'id': '114164671926955',\n",
       "   'location': {'city': 'Kampong Ajil',\n",
       "    'country': 'Malaysia',\n",
       "    'latitude': 5.08333,\n",
       "    'longitude': 103.083},\n",
       "   'name': 'Kampong Ajil, Terengganu, Malaysia'},\n",
       "  {'id': '709479835781715',\n",
       "   'location': {'city': 'Medan',\n",
       "    'country': 'Indonesia',\n",
       "    'latitude': -1.30314166667,\n",
       "    'longitude': 110.184261111,\n",
       "    'street': 'Air Terjun',\n",
       "    'zip': '16153'},\n",
       "   'name': 'Air terjun Riam Merasap'},\n",
       "  {'id': '283937758315650',\n",
       "   'location': {'city': 'Kuala Terengganu',\n",
       "    'country': 'Malaysia',\n",
       "    'latitude': 5.202293,\n",
       "    'longitude': 103.200337},\n",
       "   'name': 'Pantai Teluk Ketapang'},\n",
       "  {'id': '114551261891563',\n",
       "   'location': {'city': 'Kampong Pasir Raja',\n",
       "    'country': 'Malaysia',\n",
       "    'latitude': 4.58333,\n",
       "    'longitude': 102.983},\n",
       "   'name': 'Kampong Pasir Raja, Terengganu, Malaysia'}],\n",
       " 'paging': {'cursors': {'after': 'MjQZD'},\n",
       "  'next': 'https://graph.facebook.com/v2.12/search?access_token=EAAc4S1TR8AsBAIhNovWG7pZBVE29ZB1DxR01GeKYRvR9bcfo55l2TPBHGumHzxcB0Wel680bONdRZC1WfFj6oumKZB59qCDnijKY81AZCLcH4rBcu8h0NWOazfVHPIpnavTLklbWZCyQx7AMb2BWpfb8TAZC7xfB17y7DNoYOC9lWxJ0kUSVhf17CNGvYl8qgEFS1yhs3mihQZDZD&fields=name%2C+location&type=place&center=4.75%2C+103&limit=25&after=MjQZD'}}"
      ]
     },
     "execution_count": 26,
     "metadata": {},
     "output_type": "execute_result"
    }
   ],
   "source": [
    "# Search for a location\n",
    "g.request(\"search\", {'type': 'place', 'center': '4.75, 103', 'fields': 'name, location'})"
   ]
  },
  {
   "cell_type": "code",
   "execution_count": 28,
   "metadata": {
    "collapsed": false,
    "deletable": true,
    "editable": true
   },
   "outputs": [
    {
     "data": {
      "text/plain": [
       "{'data': [{'id': '161755687334316', 'name': 'Idris Jusoh'},\n",
       "  {'id': '149902328747237', 'name': \"Open House Yb Dato' Seri Idris Jusoh\"},\n",
       "  {'id': '511533558905716',\n",
       "   'name': 'Ahli Parlimen Besut P 033 - Dato Seri Hj Idris Jusoh'},\n",
       "  {'id': '529654967092380', 'name': \"Kelab Penyokong Dato' Seri Idris Jusoh\"}],\n",
       " 'paging': {'cursors': {'after': 'MwZDZD', 'before': 'MAZDZD'}}}"
      ]
     },
     "execution_count": 28,
     "metadata": {},
     "output_type": "execute_result"
    }
   ],
   "source": [
    "# Search for a page\n",
    "g.request(\"search\", {'q': 'DatoSeriIdrisJusoh', 'type': 'page'})"
   ]
  },
  {
   "cell_type": "code",
   "execution_count": 29,
   "metadata": {
    "collapsed": false,
    "deletable": true,
    "editable": true
   },
   "outputs": [
    {
     "data": {
      "text/plain": [
       "{'id': 'http://shop.oreilly.com/product/0636920030195.do'}"
      ]
     },
     "execution_count": 29,
     "metadata": {},
     "output_type": "execute_result"
    }
   ],
   "source": [
    "# Querying the Graph API for Open Graph (http://ogp.me/) objects by their URLs\n",
    "g.get_object('http://shop.oreilly.com/product/0636920030195.do')"
   ]
  },
  {
   "cell_type": "markdown",
   "metadata": {
    "deletable": true,
    "editable": true
   },
   "source": [
    "## Counting total number of page fans and retrieving feed"
   ]
  },
  {
   "cell_type": "code",
   "execution_count": 31,
   "metadata": {
    "collapsed": true,
    "deletable": true,
    "editable": true
   },
   "outputs": [],
   "source": [
    "Idris_Jusoh_id='161755687334316'\n"
   ]
  },
  {
   "cell_type": "code",
   "execution_count": 32,
   "metadata": {
    "collapsed": true,
    "deletable": true,
    "editable": true
   },
   "outputs": [],
   "source": [
    "# Declare a helper function for retrieving the total number of fans ('likes') a page has \n",
    "def get_total_fans(page_id):\n",
    "    return int(g.get_object(id=page_id, fields=['fan_count'])['fan_count'])"
   ]
  },
  {
   "cell_type": "code",
   "execution_count": 33,
   "metadata": {
    "collapsed": false,
    "deletable": true,
    "editable": true
   },
   "outputs": [
    {
     "data": {
      "text/plain": [
       "73706129"
      ]
     },
     "execution_count": 33,
     "metadata": {},
     "output_type": "execute_result"
    }
   ],
   "source": [
    "get_total_fans(taylor_swift_id)"
   ]
  },
  {
   "cell_type": "code",
   "execution_count": 34,
   "metadata": {
    "collapsed": false,
    "deletable": true,
    "editable": true
   },
   "outputs": [
    {
     "data": {
      "text/plain": [
       "297941"
      ]
     },
     "execution_count": 34,
     "metadata": {},
     "output_type": "execute_result"
    }
   ],
   "source": [
    "get_total_fans(Idris_Jusoh_id)"
   ]
  },
  {
   "cell_type": "code",
   "execution_count": 35,
   "metadata": {
    "collapsed": false,
    "deletable": true,
    "editable": true
   },
   "outputs": [
    {
     "data": {
      "text/plain": [
       "3380963"
      ]
     },
     "execution_count": 35,
     "metadata": {},
     "output_type": "execute_result"
    }
   ],
   "source": [
    "Najib_id = '157851205951'\n",
    "get_total_fans(Najib_id)"
   ]
  },
  {
   "cell_type": "code",
   "execution_count": 36,
   "metadata": {
    "collapsed": false,
    "deletable": true,
    "editable": true
   },
   "outputs": [
    {
     "data": {
      "text/plain": [
       "924658"
      ]
     },
     "execution_count": 36,
     "metadata": {},
     "output_type": "execute_result"
    }
   ],
   "source": [
    "Wan_Azizah_id='145765332193418'\n",
    "get_total_fans(Wan_Azizah_id)"
   ]
  },
  {
   "cell_type": "code",
   "execution_count": 37,
   "metadata": {
    "collapsed": true,
    "deletable": true,
    "editable": true
   },
   "outputs": [],
   "source": [
    "# Declare a helper function for retrieving the official feed from a given page.\n",
    "def retrieve_page_feed(page_id, n_posts):\n",
    "    \"\"\"Retrieve the first n_posts from a page's feed in reverse\n",
    "    chronological order.\"\"\"\n",
    "    feed = g.get_connections(page_id, 'posts')\n",
    "    posts = []\n",
    "    posts.extend(feed['data'])\n",
    "\n",
    "    while len(posts) < n_posts:\n",
    "        try:\n",
    "            feed = requests.get(feed['paging']['next']).json()\n",
    "            posts.extend(feed['data'])\n",
    "        except KeyError:\n",
    "            # When there are no more posts in the feed, break\n",
    "            print('Reached end of feed.')\n",
    "            break\n",
    "            \n",
    "    if len(posts) > n_posts:\n",
    "        posts = posts[:n_posts]\n",
    "\n",
    "    print('{} items retrieved from feed'.format(len(posts)))\n",
    "    return posts"
   ]
  },
  {
   "cell_type": "code",
   "execution_count": 38,
   "metadata": {
    "collapsed": false,
    "deletable": true,
    "editable": true
   },
   "outputs": [
    {
     "name": "stdout",
     "output_type": "stream",
     "text": [
      "25 items retrieved from feed\n"
     ]
    },
    {
     "data": {
      "text/plain": [
       "[{'created_time': '2018-02-12T14:27:08+0000',\n",
       "  'id': '157851205951_10155129256265952',\n",
       "  'message': 'Bila ada UMNO itu, Insya-Allah kita boleh menyelesaikan masalah rakyat. Kita boleh bawa negara kita ke hadapan!'},\n",
       " {'created_time': '2018-02-11T11:12:19+0000',\n",
       "  'id': '157851205951_10155126527190952',\n",
       "  'message': \"Today is the last Sunday before the Lunar New Year. Many Chinese Malaysians will be doing some last minute shopping today and over the next few days in preparation for the festive celebration.\\n\\nThe Lunar New Year is a celebration that is part and parcel of the Chinese Malaysian cultural heritage. And as with any other festivities in the country, it is an occasion celebrated by all Malaysians across the country. Yee sang and nian gao for example, are national heritage food enjoyed by all Malaysians! \\n\\nI look forward to the celebrations in the coming week. Wishing everyone a happy Sunday and let's welcome the joyous occasion!\"},\n",
       " {'created_time': '2018-02-10T10:07:36+0000',\n",
       "  'id': '157851205951_10155124082665952',\n",
       "  'message': 'Alhamdulillah hasil pengurusan dan pelaburan baik, hari ini KWSP isytihar kadar dividen 6.90 peratus bagi Simpanan Konvensional dan 6.40 peratus bagi Simpanan Shariah.\\n\\nAgihan dividen dan pendapatan pelaburan kasar tahun ini lebih tinggi daripada tahun lalu. Syabas pasukan KWSP!\\n\\nInsya-Allah, semoga dengan ini dapat sedikit sebanyak menambah simpanan pencarum serta menjadi bekalan di  masa hadapan.'},\n",
       " {'created_time': '2018-02-10T06:01:02+0000',\n",
       "  'id': '157851205951_10155123810470952',\n",
       "  'message': 'Apa khabar orang Sarawak! Rasmikan Perhimpunan Agung Parti Pesaka Bumiputera Bersatu Sarawak hari ini, saya lihat PBB cukup bersedia bertempur dalam PRU akan datang. Pastikan Bumi Kenyalang kekal kubu kuat Barisan Nasional !',\n",
       "  'story': 'Najib Razak added 3 new photos.'},\n",
       " {'created_time': '2018-02-10T01:33:07+0000',\n",
       "  'id': '157851205951_10155123384900952',\n",
       "  'message': 'Ada yang tak nak lepas tangan saya!'},\n",
       " {'created_time': '2018-02-09T13:11:20+0000',\n",
       "  'id': '157851205951_10155121983175952',\n",
       "  'message': 'Walaupun ada kat seluruh Malaysia, tapi tentulah di Muar, Mee Bandung Muar paling sedap! Rahsianya udang geragau dan kuah pekat. Alhamdulillah 👍'},\n",
       " {'created_time': '2018-02-09T09:53:26+0000',\n",
       "  'id': '157851205951_10155121695005952',\n",
       "  'message': '\"Saya antara peneroka terawal di Felda Maokil ini, lebih kurang 30 tahun. Kalau dulu orang Melayu di kampung tak ada tanah, tak ada harta, tapi dengan Felda ini kita dapat tanah, dapat tapak rumah, dapat naik taraf kehidupan kita.\"\\n\\nHaji Zaid bin Haji Latiff salah seorang peneroka terawal di Felda Maokil yang sempat saya jumpa pagi tadi. Alhamdulillah menerusi usaha berterusan Kerajaan Barisan Nasional telah membawa perubahan kepada kehidupan ramai rakyat Malaysia. Kita akan terus berkhidmat!'},\n",
       " {'created_time': '2018-02-09T08:43:44+0000',\n",
       "  'id': '157851205951_10155121592490952',\n",
       "  'story': \"Najib Razak shared PMO Malaysia's post.\"},\n",
       " {'created_time': '2018-02-09T04:45:31+0000',\n",
       "  'id': '157851205951_10155121298370952',\n",
       "  'message': 'Di Pulau Pinang, tak cukup dengan skandal banglo, baru-baru ini muncul pula tuduhan skandal raksasa terowong dasar laut Pulau Pinang.'},\n",
       " {'created_time': '2018-02-08T13:08:32+0000',\n",
       "  'id': '157851205951_10155119178280952',\n",
       "  'message': 'Seronok nampak. Ada berita baik yang sedap hati lah ni.'},\n",
       " {'created_time': '2018-02-08T12:05:54+0000',\n",
       "  'id': '157851205951_10155119102445952',\n",
       "  'message': 'Barisan #Negaraku .'},\n",
       " {'created_time': '2018-02-08T09:37:52+0000',\n",
       "  'id': '157851205951_10155118840275952',\n",
       "  'message': 'Di Istana Negara pagi tadi bagi menghadiri Mesyuarat Majlis Raja-Raja ke-248.',\n",
       "  'story': 'Najib Razak added 3 new photos.'},\n",
       " {'created_time': '2018-02-08T07:05:35+0000',\n",
       "  'id': '157851205951_10155118665050952',\n",
       "  'story': \"Najib Razak shared PMO Malaysia's post.\"},\n",
       " {'created_time': '2018-02-06T15:30:33+0000',\n",
       "  'id': '157851205951_10155114878360952',\n",
       "  'message': 'Rumah PPA1M yang dijual pada harga RM300,000 sebenarnya mempunyai harga pasaran melebihi RM500,000.'},\n",
       " {'created_time': '2018-02-06T05:30:26+0000',\n",
       "  'id': '157851205951_10155114112175952',\n",
       "  'message': 'Setelah selesai program bersama rakyat di Perak pada hari Sabtu, saya telah ke Pahang pula pada keesokannya untuk pelancaran KR1M 2.0 dan Felda 2.0.\\n\\n1Malaysia'},\n",
       " {'created_time': '2018-02-06T03:34:44+0000',\n",
       "  'id': '157851205951_10155114001380952',\n",
       "  'message': 'Lebih kurang 3 tahun lalu saya rasmikan PPA1M Bukit Jalil, hari ini sukacita saya serahkan kunci kepada para penjawat awam yang bakal memiliki rumah melalui skim khas ini.',\n",
       "  'story': 'Najib Razak was live.'},\n",
       " {'created_time': '2018-02-06T02:47:53+0000',\n",
       "  'id': '157851205951_10155113937430952',\n",
       "  'message': 'My Government recognises that we live in a new era, one where the excesses of crony capitalism of a former era must remain in the past.\\n\\nRead my full speech delivered at the World Capital Markets Symposium 2018 here'},\n",
       " {'created_time': '2018-02-06T01:29:53+0000',\n",
       "  'id': '157851205951_10155113785545952',\n",
       "  'message': \"Malaysia's economy exceeded all expectations and the success of our long term economic plan can be seen in a range of indicators. I am pleased to announce several more initiatives which will continue to generate growth and ensure global competitiveness of\",\n",
       "  'story': 'Najib Razak was live.'},\n",
       " {'created_time': '2018-02-05T12:08:41+0000',\n",
       "  'id': '157851205951_10155112365060952',\n",
       "  'message': 'Merafak sembah menjunjung kasih Seri Paduka Baginda Yang di-Pertuan Agong Sultan Muhammad V yang sudi mencemar duli berkunjung ke Bangunan Perdana Putra hari ini.',\n",
       "  'story': 'Najib Razak added 4 new photos.'},\n",
       " {'created_time': '2018-02-05T10:10:18+0000',\n",
       "  'id': '157851205951_10155112254710952',\n",
       "  'message': 'Nurul Fatin Atikah dan Siti Sarah Mohd Samsuri buktikan pendidikan TVET mampu beri kerjaya cemerlang. Baca kisah mereka dan ramai lagi.'},\n",
       " {'created_time': '2018-02-05T09:14:49+0000',\n",
       "  'id': '157851205951_10155112155450952',\n",
       "  'message': 'Alhamdulillah syukur dengan izin Allah jua, melalui Program Khas ini dapat kita hantar para jemaah Haji melengkapkan rukun Islam kelima.'},\n",
       " {'created_time': '2018-02-05T01:58:52+0000',\n",
       "  'id': '157851205951_10155111523380952',\n",
       "  'message': 'Saya telah menziarahi Tn Hj Kamaruddin, seorang peneroka yang amat besar sumbangan dan jasanya kepada rancangan Felda.'},\n",
       " {'created_time': '2018-02-04T11:00:09+0000',\n",
       "  'id': '157851205951_10155109741770952',\n",
       "  'message': 'Kita akan buat satu kompleks di Madinah, satu kompleks di Mekah, tempatkan semua jemaah haji.'},\n",
       " {'created_time': '2018-02-04T09:29:45+0000',\n",
       "  'id': '157851205951_10155109723210952',\n",
       "  'story': \"Najib Razak shared PMO Malaysia's post.\"},\n",
       " {'created_time': '2018-02-04T08:13:28+0000',\n",
       "  'id': '157851205951_10155109607440952',\n",
       "  'message': 'Saya kini berada di FELDA Lurah Bilut yang  dipilih sebagai lokasi perintis FELDA 2.0. Kawasan ini amatlah bersejarah dan bermakna kerana ia merupakan tanah rancangan pertama yang dibangunkan pada 1958 oleh ayahanda saya.',\n",
       "  'story': 'Najib Razak was live.'}]"
      ]
     },
     "execution_count": 38,
     "metadata": {},
     "output_type": "execute_result"
    }
   ],
   "source": [
    "retrieve_page_feed(Najib_id,25)"
   ]
  },
  {
   "cell_type": "code",
   "execution_count": 39,
   "metadata": {
    "collapsed": false,
    "deletable": true,
    "editable": true
   },
   "outputs": [],
   "source": [
    "# Declare a helper function for returning the message content of a post\n",
    "def get_post_message(post):\n",
    "    try:\n",
    "        message = post['story']\n",
    "    except KeyError:\n",
    "        # Post may have 'message' instead of 'story'\n",
    "        pass\n",
    "    try:\n",
    "        message = post['message']\n",
    "    except KeyError:\n",
    "        # Post has neither\n",
    "        message = ''\n",
    "    return message.replace('\\n', ' ')"
   ]
  },
  {
   "cell_type": "code",
   "execution_count": 74,
   "metadata": {
    "collapsed": false,
    "deletable": true,
    "editable": true
   },
   "outputs": [
    {
     "name": "stdout",
     "output_type": "stream",
     "text": [
      "Wan_Azizah:        922184 fans on Facebook\n",
      "Wan_Azizah:      922184 fans on Facebook\n",
      "Idris_Jusoh:      297156 fans on Facebook\n"
     ]
    }
   ],
   "source": [
    "Najib = get_total_fans(Najib_id)\n",
    "Wan_Azizah = get_total_fans(Wan_Azizah_id)\n",
    "Idris_Jusoh = get_total_fans(Idris_Jusoh_id)\n",
    "\n",
    "#print('Najib: {0} fans on Facebook'.format(Najib))\n",
    "print('Wan_Azizah:        {0} fans on Facebook'.format(Wan_Azizah))\n",
    "print('Wan_Azizah:      {0} fans on Facebook'.format(Wan_Azizah))\n",
    "print('Idris_Jusoh:      {0} fans on Facebook'.format(Idris_Jusoh))"
   ]
  },
  {
   "cell_type": "code",
   "execution_count": 75,
   "metadata": {
    "collapsed": false,
    "deletable": true,
    "editable": true
   },
   "outputs": [
    {
     "name": "stdout",
     "output_type": "stream",
     "text": [
      "\n",
      "5 items retrieved from feed\n",
      "1 - Berjalan bersama PM Lee Hsien Loong ke Mughal Gard...\n",
      "2 - Saya tekankan kepada Perdana Menteri Narendra Modi...\n",
      "3 - Suka saya kongsikan hasil perbincangan sesi Sidang...\n",
      "4 - 4 ASEAN leaders at the President's Palace in Delhi...\n",
      "5 - Salam dari New Delhi!...\n",
      "\n",
      "5 items retrieved from feed\n",
      "1 - Mendapat perkhabaran dukacita di atas pemergian Al...\n",
      "2 - Setulus penghargaan buat Hiroko Iwami Malott yang ...\n",
      "3 - SPR perlu adil dan telus serta bekerja untuk kepen...\n",
      "4 - Hadiri sambutan Australia Day anjuran Kedutaan Aus...\n",
      "5 - Salam dari DSAI buat pendukung Pakatan Harapan dan...\n",
      "\n",
      "5 items retrieved from feed\n",
      "1 - Inspiring youths from all aspects. 🍩☕️ #SoaringUpw...\n",
      "2 - As the saying goes, \"A man in wisdom delights in w...\n",
      "3 - Because problems are no longer a hindrance when th...\n",
      "4 - REMDII Sensitive from Universiti Putra Malaysia co...\n",
      "5 - Universiti perlu bekerjasama dengan penggiat indus...\n"
     ]
    }
   ],
   "source": [
    "# Retrieve the last 5 items from their feeds\n",
    "for artist in [Najib_id, Wan_Azizah_id, Idris_Jusoh_id]:\n",
    "    print()\n",
    "    feed = retrieve_page_feed(artist, 5)\n",
    "    for i, post in enumerate(feed):\n",
    "        message = get_post_message(post)[:50]\n",
    "        print('{0} - {1}...'.format(i+1, message))"
   ]
  },
  {
   "cell_type": "markdown",
   "metadata": {
    "deletable": true,
    "editable": true
   },
   "source": [
    "## Measuring engagement"
   ]
  },
  {
   "cell_type": "code",
   "execution_count": 40,
   "metadata": {
    "collapsed": true,
    "deletable": true,
    "editable": true
   },
   "outputs": [],
   "source": [
    "# Measure the reaction to a post in terms of likes, shares, and comments\n",
    "def measure_reaction(post_id):\n",
    "    \"\"\"Returns the number of likes, shares, and comments on a \n",
    "    given post as a measure of user engagement.\"\"\"\n",
    "    likes = g.get_object(id=post_id, \n",
    "                         fields=['likes.limit(0).summary(true)'])\\\n",
    "                         ['likes']['summary']['total_count']\n",
    "    shares = g.get_object(id=post_id, \n",
    "                         fields=['shares.limit(0).summary(true)'])\\\n",
    "                         ['shares']['count']\n",
    "    comments = g.get_object(id=post_id, \n",
    "                         fields=['comments.limit(0).summary(true)'])\\\n",
    "                         ['comments']['summary']['total_count']\n",
    "    return likes, shares, comments"
   ]
  },
  {
   "cell_type": "code",
   "execution_count": 41,
   "metadata": {
    "collapsed": false,
    "deletable": true,
    "editable": true
   },
   "outputs": [],
   "source": [
    "# Measure the relative share of a page's fans engaging with a post\n",
    "def measure_engagement(post_id, total_fans):\n",
    "    \"\"\"Returns the number of likes, shares, and comments on a \n",
    "    given post as a measure of user engagement.\"\"\"\n",
    "    likes = g.get_object(id=post_id, \n",
    "                         fields=['likes.limit(0).summary(true)'])\\\n",
    "                         ['likes']['summary']['total_count']\n",
    "    shares = g.get_object(id=post_id, \n",
    "                         fields=['shares.limit(0).summary(true)'])\\\n",
    "                         ['shares']['count']\n",
    "    comments = g.get_object(id=post_id, \n",
    "                         fields=['comments.limit(0).summary(true)'])\\\n",
    "                         ['comments']['summary']['total_count']\n",
    "    likes_pct = likes / total_fans * 100.0\n",
    "    shares_pct = shares / total_fans * 100.0\n",
    "    comments_pct = comments / total_fans * 100.0\n",
    "    return likes_pct, shares_pct, comments_pct"
   ]
  },
  {
   "cell_type": "code",
   "execution_count": 42,
   "metadata": {
    "collapsed": false,
    "deletable": true,
    "editable": true
   },
   "outputs": [
    {
     "name": "stdout",
     "output_type": "stream",
     "text": [
      "\n",
      "Wan_Azizah\n",
      "------------\n",
      "5 items retrieved from feed\n",
      "1 - CABARAN RM50   Cabaran berbela...\n",
      "    Likes 1046 (0.11312%)\n",
      "    Shares 187 (0.02022%)\n",
      "    Comments 65 (0.00703%)\n",
      "2 - Serahan bantahan terhadap syor...\n",
      "    Likes 222 (0.02401%)\n",
      "    Shares 25 (0.00270%)\n",
      "    Comments 11 (0.00119%)\n",
      "3 - Mesej jelas buat anak muda, kh...\n",
      "    Likes 482 (0.05213%)\n",
      "    Shares 63 (0.00681%)\n",
      "    Comments 36 (0.00389%)\n",
      "4 - Temubual bersama The Straits T...\n",
      "    Likes 693 (0.07495%)\n",
      "    Shares 31 (0.00335%)\n",
      "    Comments 25 (0.00270%)\n",
      "5 - Kita menggembleng tenaga bersa...\n",
      "    Likes 826 (0.08933%)\n",
      "    Shares 75 (0.00811%)\n",
      "    Comments 72 (0.00779%)\n",
      "\n",
      "Najib\n",
      "------------\n",
      "5 items retrieved from feed\n",
      "1 - Bila ada UMNO itu, Insya-Allah...\n",
      "    Likes 2384 (0.07051%)\n",
      "    Shares 335 (0.00991%)\n",
      "    Comments 482 (0.01426%)\n",
      "2 - Today is the last Sunday befor...\n",
      "    Likes 1242 (0.03674%)\n",
      "    Shares 113 (0.00334%)\n",
      "    Comments 149 (0.00441%)\n",
      "3 - Alhamdulillah hasil pengurusan...\n",
      "    Likes 2373 (0.07019%)\n",
      "    Shares 251 (0.00742%)\n",
      "    Comments 354 (0.01047%)\n",
      "4 - Apa khabar orang Sarawak! Rasm...\n",
      "    Likes 1455 (0.04304%)\n",
      "    Shares 174 (0.00515%)\n",
      "    Comments 121 (0.00358%)\n",
      "5 - Ada yang tak nak lepas tangan ...\n",
      "    Likes 5960 (0.17628%)\n",
      "    Shares 289 (0.00855%)\n",
      "    Comments 832 (0.02461%)\n",
      "\n",
      "Idris_Jusoh\n",
      "------------\n",
      "5 items retrieved from feed\n",
      "1 - Masihkah anda ingat lagi denga...\n",
      "    Likes 86 (0.02886%)\n",
      "    Shares 12 (0.00403%)\n",
      "    Comments 1 (0.00034%)\n",
      "2 - Menyampaikan sumbangan kepada ...\n",
      "    Likes 17 (0.00571%)\n",
      "    Shares 2 (0.00067%)\n",
      "    Comments 0 (0.00000%)\n",
      "3 - Well done! #redesigingHE #soar...\n",
      "    Likes 39 (0.01309%)\n",
      "    Shares 2 (0.00067%)\n",
      "    Comments 0 (0.00000%)\n",
      "4 - Congrats Universiti Putra Mala...\n",
      "    Likes 82 (0.02752%)\n",
      "    Shares 2 (0.00067%)\n",
      "    Comments 2 (0.00067%)\n",
      "5 - Sesi Dialog YB Menteri Pendidi...\n",
      "    Likes 37 (0.01242%)\n",
      "    Shares 2 (0.00067%)\n",
      "    Comments 1 (0.00034%)\n"
     ]
    }
   ],
   "source": [
    "# Retrieve the last 5 items from the artists' feeds, print the\n",
    "# reaction and the degree of engagement\n",
    "artist_dict = {'Najib': Najib_id,\n",
    "               'Wan_Azizah': Wan_Azizah_id,\n",
    "               'Idris_Jusoh': Idris_Jusoh_id}\n",
    "for name, page_id in artist_dict.items():\n",
    "    print()\n",
    "    print(name)\n",
    "    print('------------')\n",
    "    feed = retrieve_page_feed(page_id, 5)\n",
    "    total_fans = get_total_fans(page_id)\n",
    "    \n",
    "    for i, post in enumerate(feed):\n",
    "        message = get_post_message(post)[:30]\n",
    "        post_id = post['id']\n",
    "        likes, shares, comments = measure_reaction(post_id)\n",
    "        likes_pct, shares_pct, comments_pct = measure_engagement(post_id, total_fans)\n",
    "        print('{0} - {1}...'.format(i+1, message))\n",
    "        print('    Likes {0} ({1:7.5f}%)'.format(likes, likes_pct))\n",
    "        print('    Shares {0} ({1:7.5f}%)'.format(shares, shares_pct))\n",
    "        print('    Comments {0} ({1:7.5f}%)'.format(comments, comments_pct))"
   ]
  },
  {
   "cell_type": "markdown",
   "metadata": {
    "deletable": true,
    "editable": true
   },
   "source": [
    "## Visualizing a Politician's Facebook fan engagement"
   ]
  },
  {
   "cell_type": "code",
   "execution_count": 43,
   "metadata": {
    "collapsed": true,
    "deletable": true,
    "editable": true
   },
   "outputs": [],
   "source": [
    "import pandas as pd  # pip install pandas\n",
    "import matplotlib    # pip install matplotlib\n",
    "%matplotlib inline"
   ]
  },
  {
   "cell_type": "code",
   "execution_count": 44,
   "metadata": {
    "collapsed": true,
    "deletable": true,
    "editable": true
   },
   "outputs": [],
   "source": [
    "# Create a Pandas DataFrame to contain artist page\n",
    "# feed information\n",
    "columns = ['Name',\n",
    "           'Total Fans',\n",
    "           'Post Number',\n",
    "           'Post Date',\n",
    "           'Headline',\n",
    "           'Likes',\n",
    "           'Shares',\n",
    "           'Comments',\n",
    "           'Rel. Likes',\n",
    "           'Rel. Shares',\n",
    "           'Rel. Comments']\n",
    "politician = pd.DataFrame(columns=columns)"
   ]
  },
  {
   "cell_type": "code",
   "execution_count": 45,
   "metadata": {
    "collapsed": false,
    "deletable": true,
    "editable": true
   },
   "outputs": [
    {
     "name": "stdout",
     "output_type": "stream",
     "text": [
      "10 items retrieved from feed\n",
      "10 items retrieved from feed\n",
      "10 items retrieved from feed\n"
     ]
    }
   ],
   "source": [
    "# Build the DataFrame by adding the last 10 posts and their audience\n",
    "# reaction for each of the artists\n",
    "for page_id in [Najib_id, Wan_Azizah_id, Idris_Jusoh_id]:\n",
    "    name = g.get_object(id=page_id)['name']\n",
    "    fans = get_total_fans(page_id)\n",
    "    feed = retrieve_page_feed(page_id, 10)\n",
    "    for i, post in enumerate(feed):\n",
    "        likes, shares, comments = measure_reaction(post['id'])\n",
    "        likes_pct, shares_pct, comments_pct = measure_engagement(post['id'], fans)\n",
    "        politician = politician.append({'Name': name,\n",
    "                                      'Total Fans': fans,\n",
    "                                      'Post Number': i+1,\n",
    "                                      'Post Date': post['created_time'],\n",
    "                                      'Headline': get_post_message(post),\n",
    "                                      'Likes': likes,\n",
    "                                      'Shares': shares,\n",
    "                                      'Comments': comments,\n",
    "                                      'Rel. Likes': likes_pct,\n",
    "                                      'Rel. Shares': shares_pct,\n",
    "                                      'Rel. Comments': comments_pct,\n",
    "                                     }, ignore_index=True)\n",
    "# Fix the dtype of a few columns\n",
    "for col in ['Post Number', 'Total Fans', 'Likes', 'Shares', 'Comments']:\n",
    "    politician[col] = politician[col].astype(int)"
   ]
  },
  {
   "cell_type": "code",
   "execution_count": 46,
   "metadata": {
    "collapsed": false,
    "deletable": true,
    "editable": true
   },
   "outputs": [
    {
     "data": {
      "text/plain": [
       "(          Name  Total Fans  Post Number                 Post Date  \\\n",
       " 0  Najib Razak     3380968            1  2018-02-12T14:27:08+0000   \n",
       " 1  Najib Razak     3380968            2  2018-02-11T11:12:19+0000   \n",
       " 2  Najib Razak     3380968            3  2018-02-10T10:07:36+0000   \n",
       " 3  Najib Razak     3380968            4  2018-02-10T06:01:02+0000   \n",
       " 4  Najib Razak     3380968            5  2018-02-10T01:33:07+0000   \n",
       " \n",
       "                                             Headline  Likes  Shares  Comments  \\\n",
       " 0  Bila ada UMNO itu, Insya-Allah kita boleh meny...   2384     335       482   \n",
       " 1  Today is the last Sunday before the Lunar New ...   1242     113       149   \n",
       " 2  Alhamdulillah hasil pengurusan dan pelaburan b...   2373     251       354   \n",
       " 3  Apa khabar orang Sarawak! Rasmikan Perhimpunan...   1455     174       121   \n",
       " 4                Ada yang tak nak lepas tangan saya!   5960     289       832   \n",
       " \n",
       "    Rel. Likes  Rel. Shares  Rel. Comments  \n",
       " 0    0.070512     0.009908       0.014256  \n",
       " 1    0.036735     0.003342       0.004407  \n",
       " 2    0.070187     0.007424       0.010470  \n",
       " 3    0.043035     0.005146       0.003579  \n",
       " 4    0.176281     0.008548       0.024608  ,\n",
       "            Name  Total Fans  Post Number                 Post Date  \\\n",
       " 25  Idris Jusoh      297940            6  2018-02-12T06:38:24+0000   \n",
       " 26  Idris Jusoh      297940            7  2018-02-12T05:09:54+0000   \n",
       " 27  Idris Jusoh      297940            8  2018-02-10T12:00:00+0000   \n",
       " 28  Idris Jusoh      297940            9  2018-02-09T14:00:00+0000   \n",
       " 29  Idris Jusoh      297940           10  2018-02-09T14:00:00+0000   \n",
       " \n",
       "                                              Headline  Likes  Shares  \\\n",
       " 25  Dr Adlyka Annuar sumber inspirasi kepada kita ...    106      63   \n",
       " 26  MAJLIS ANUGERAH PROFESOR ULUNG TAHUN  2017   T...     39       3   \n",
       " 27  UPU Online - PENJAWAT AWAM  Penjawat awam yang...     57      15   \n",
       " 28  Bahagian Pengurusan Kemasukan Pelajar (BPKP) a...     23      27   \n",
       " 29  KARNIVAL PENDIDIKAN TINGGI NEGARA 2018  Karniv...     44      16   \n",
       " \n",
       "     Comments  Rel. Likes  Rel. Shares  Rel. Comments  \n",
       " 25         2    0.035578     0.021145       0.000671  \n",
       " 26         1    0.013090     0.001007       0.000336  \n",
       " 27         3    0.019131     0.005035       0.001007  \n",
       " 28         3    0.007720     0.009062       0.001007  \n",
       " 29         5    0.014768     0.005370       0.001678  )"
      ]
     },
     "execution_count": 46,
     "metadata": {},
     "output_type": "execute_result"
    }
   ],
   "source": [
    "# Show a preview of the DataFrame\n",
    "politician.head(),politician.tail()"
   ]
  },
  {
   "cell_type": "code",
   "execution_count": 47,
   "metadata": {
    "collapsed": false,
    "deletable": true,
    "editable": true
   },
   "outputs": [
    {
     "data": {
      "text/plain": [
       "<matplotlib.axes._subplots.AxesSubplot at 0x1d26a900dd8>"
      ]
     },
     "execution_count": 47,
     "metadata": {},
     "output_type": "execute_result"
    },
    {
     "data": {
      "image/png": "[encoded data removed]",
      "text/plain": [
       "<matplotlib.figure.Figure at 0x1d267e7b390>"
      ]
     },
     "metadata": {},
     "output_type": "display_data"
    },
    {
     "data": {
      "image/png": "[encoded data removed]",
      "text/plain": [
       "<matplotlib.figure.Figure at 0x1d26a71bb70>"
      ]
     },
     "metadata": {},
     "output_type": "display_data"
    },
    {
     "data": {
      "image/png": "[encoded data removed]",
      "text/plain": [
       "<matplotlib.figure.Figure at 0x1d26a911240>"
      ]
     },
     "metadata": {},
     "output_type": "display_data"
    }
   ],
   "source": [
    "politician[politician['Name'] == 'Najib Razak'].plot(x='Post Number', y='Likes', kind='bar')\n",
    "politician[politician['Name'] == 'Najib Razak'].plot(x='Post Number', y='Shares', kind='bar')\n",
    "politician[politician['Name'] == 'Najib Razak'].plot(x='Post Number', y='Comments', kind='bar')"
   ]
  },
  {
   "cell_type": "code",
   "execution_count": 48,
   "metadata": {
    "collapsed": false,
    "deletable": true,
    "editable": true
   },
   "outputs": [
    {
     "data": {
      "text/plain": [
       "<matplotlib.axes._subplots.AxesSubplot at 0x1d26ad6f9b0>"
      ]
     },
     "execution_count": 48,
     "metadata": {},
     "output_type": "execute_result"
    },
    {
     "data": {
      "image/png": "[encoded data removed]",
      "text/plain": [
       "<matplotlib.figure.Figure at 0x1d26a9bb048>"
      ]
     },
     "metadata": {},
     "output_type": "display_data"
    },
    {
     "data": {
      "image/png": "[encoded data removed]",
      "text/plain": [
       "<matplotlib.figure.Figure at 0x1d26aa49908>"
      ]
     },
     "metadata": {},
     "output_type": "display_data"
    },
    {
     "data": {
      "image/png": "[encoded data removed]",
      "text/plain": [
       "<matplotlib.figure.Figure at 0x1d26ad04eb8>"
      ]
     },
     "metadata": {},
     "output_type": "display_data"
    }
   ],
   "source": [
    "politician[politician['Name'] == 'Najib Razak'].plot(x='Post Number', y='Rel. Likes', kind='bar')\n",
    "politician[politician['Name'] == 'Najib Razak'].plot(x='Post Number', y='Rel. Shares', kind='bar')\n",
    "politician[politician['Name'] == 'Najib Razak'].plot(x='Post Number', y='Rel. Comments', kind='bar')"
   ]
  },
  {
   "cell_type": "markdown",
   "metadata": {
    "deletable": true,
    "editable": true
   },
   "source": [
    "## Comparing different artists to each other"
   ]
  },
  {
   "cell_type": "code",
   "execution_count": 49,
   "metadata": {
    "collapsed": false,
    "deletable": true,
    "editable": true
   },
   "outputs": [],
   "source": [
    "# Reset the index to a multi-index\n",
    "politician = politician.set_index(['Name','Post Number'])"
   ]
  },
  {
   "cell_type": "code",
   "execution_count": 50,
   "metadata": {
    "collapsed": false,
    "deletable": true,
    "editable": true
   },
   "outputs": [
    {
     "data": {
      "text/html": [
       "<div>\n",
       "<style>\n",
       "    .dataframe thead tr:only-child th {\n",
       "        text-align: right;\n",
       "    }\n",
       "\n",
       "    .dataframe thead th {\n",
       "        text-align: left;\n",
       "    }\n",
       "\n",
       "    .dataframe tbody tr th {\n",
       "        vertical-align: top;\n",
       "    }\n",
       "</style>\n",
       "<table border=\"1\" class=\"dataframe\">\n",
       "  <thead>\n",
       "    <tr style=\"text-align: right;\">\n",
       "      <th></th>\n",
       "      <th></th>\n",
       "      <th>Total Fans</th>\n",
       "      <th>Post Date</th>\n",
       "      <th>Headline</th>\n",
       "      <th>Likes</th>\n",
       "      <th>Shares</th>\n",
       "      <th>Comments</th>\n",
       "      <th>Rel. Likes</th>\n",
       "      <th>Rel. Shares</th>\n",
       "      <th>Rel. Comments</th>\n",
       "    </tr>\n",
       "    <tr>\n",
       "      <th>Name</th>\n",
       "      <th>Post Number</th>\n",
       "      <th></th>\n",
       "      <th></th>\n",
       "      <th></th>\n",
       "      <th></th>\n",
       "      <th></th>\n",
       "      <th></th>\n",
       "      <th></th>\n",
       "      <th></th>\n",
       "      <th></th>\n",
       "    </tr>\n",
       "  </thead>\n",
       "  <tbody>\n",
       "    <tr>\n",
       "      <th rowspan=\"5\" valign=\"top\">Najib Razak</th>\n",
       "      <th>1</th>\n",
       "      <td>3380968</td>\n",
       "      <td>2018-02-12T14:27:08+0000</td>\n",
       "      <td>Bila ada UMNO itu, Insya-Allah kita boleh meny...</td>\n",
       "      <td>2384</td>\n",
       "      <td>335</td>\n",
       "      <td>482</td>\n",
       "      <td>0.070512</td>\n",
       "      <td>0.009908</td>\n",
       "      <td>0.014256</td>\n",
       "    </tr>\n",
       "    <tr>\n",
       "      <th>2</th>\n",
       "      <td>3380968</td>\n",
       "      <td>2018-02-11T11:12:19+0000</td>\n",
       "      <td>Today is the last Sunday before the Lunar New ...</td>\n",
       "      <td>1242</td>\n",
       "      <td>113</td>\n",
       "      <td>149</td>\n",
       "      <td>0.036735</td>\n",
       "      <td>0.003342</td>\n",
       "      <td>0.004407</td>\n",
       "    </tr>\n",
       "    <tr>\n",
       "      <th>3</th>\n",
       "      <td>3380968</td>\n",
       "      <td>2018-02-10T10:07:36+0000</td>\n",
       "      <td>Alhamdulillah hasil pengurusan dan pelaburan b...</td>\n",
       "      <td>2373</td>\n",
       "      <td>251</td>\n",
       "      <td>354</td>\n",
       "      <td>0.070187</td>\n",
       "      <td>0.007424</td>\n",
       "      <td>0.010470</td>\n",
       "    </tr>\n",
       "    <tr>\n",
       "      <th>4</th>\n",
       "      <td>3380968</td>\n",
       "      <td>2018-02-10T06:01:02+0000</td>\n",
       "      <td>Apa khabar orang Sarawak! Rasmikan Perhimpunan...</td>\n",
       "      <td>1455</td>\n",
       "      <td>174</td>\n",
       "      <td>121</td>\n",
       "      <td>0.043035</td>\n",
       "      <td>0.005146</td>\n",
       "      <td>0.003579</td>\n",
       "    </tr>\n",
       "    <tr>\n",
       "      <th>5</th>\n",
       "      <td>3380968</td>\n",
       "      <td>2018-02-10T01:33:07+0000</td>\n",
       "      <td>Ada yang tak nak lepas tangan saya!</td>\n",
       "      <td>5960</td>\n",
       "      <td>289</td>\n",
       "      <td>832</td>\n",
       "      <td>0.176281</td>\n",
       "      <td>0.008548</td>\n",
       "      <td>0.024608</td>\n",
       "    </tr>\n",
       "  </tbody>\n",
       "</table>\n",
       "</div>"
      ],
      "text/plain": [
       "                         Total Fans                 Post Date  \\\n",
       "Name        Post Number                                         \n",
       "Najib Razak 1               3380968  2018-02-12T14:27:08+0000   \n",
       "            2               3380968  2018-02-11T11:12:19+0000   \n",
       "            3               3380968  2018-02-10T10:07:36+0000   \n",
       "            4               3380968  2018-02-10T06:01:02+0000   \n",
       "            5               3380968  2018-02-10T01:33:07+0000   \n",
       "\n",
       "                                                                  Headline  \\\n",
       "Name        Post Number                                                      \n",
       "Najib Razak 1            Bila ada UMNO itu, Insya-Allah kita boleh meny...   \n",
       "            2            Today is the last Sunday before the Lunar New ...   \n",
       "            3            Alhamdulillah hasil pengurusan dan pelaburan b...   \n",
       "            4            Apa khabar orang Sarawak! Rasmikan Perhimpunan...   \n",
       "            5                          Ada yang tak nak lepas tangan saya!   \n",
       "\n",
       "                         Likes  Shares  Comments  Rel. Likes  Rel. Shares  \\\n",
       "Name        Post Number                                                     \n",
       "Najib Razak 1             2384     335       482    0.070512     0.009908   \n",
       "            2             1242     113       149    0.036735     0.003342   \n",
       "            3             2373     251       354    0.070187     0.007424   \n",
       "            4             1455     174       121    0.043035     0.005146   \n",
       "            5             5960     289       832    0.176281     0.008548   \n",
       "\n",
       "                         Rel. Comments  \n",
       "Name        Post Number                 \n",
       "Najib Razak 1                 0.014256  \n",
       "            2                 0.004407  \n",
       "            3                 0.010470  \n",
       "            4                 0.003579  \n",
       "            5                 0.024608  "
      ]
     },
     "execution_count": 50,
     "metadata": {},
     "output_type": "execute_result"
    }
   ],
   "source": [
    "politician.head()"
   ]
  },
  {
   "cell_type": "code",
   "execution_count": 51,
   "metadata": {
    "collapsed": false,
    "deletable": true,
    "editable": true
   },
   "outputs": [
    {
     "data": {
      "text/html": [
       "<div>\n",
       "<style>\n",
       "    .dataframe thead tr:only-child th {\n",
       "        text-align: right;\n",
       "    }\n",
       "\n",
       "    .dataframe thead th {\n",
       "        text-align: left;\n",
       "    }\n",
       "\n",
       "    .dataframe tbody tr th {\n",
       "        vertical-align: top;\n",
       "    }\n",
       "</style>\n",
       "<table border=\"1\" class=\"dataframe\">\n",
       "  <thead>\n",
       "    <tr>\n",
       "      <th></th>\n",
       "      <th colspan=\"3\" halign=\"left\">Total Fans</th>\n",
       "      <th colspan=\"3\" halign=\"left\">Post Date</th>\n",
       "      <th colspan=\"3\" halign=\"left\">Headline</th>\n",
       "      <th>Likes</th>\n",
       "      <th>...</th>\n",
       "      <th>Comments</th>\n",
       "      <th colspan=\"3\" halign=\"left\">Rel. Likes</th>\n",
       "      <th colspan=\"3\" halign=\"left\">Rel. Shares</th>\n",
       "      <th colspan=\"3\" halign=\"left\">Rel. Comments</th>\n",
       "    </tr>\n",
       "    <tr>\n",
       "      <th>Name</th>\n",
       "      <th>Dr Wan Azizah Wan Ismail</th>\n",
       "      <th>Idris Jusoh</th>\n",
       "      <th>Najib Razak</th>\n",
       "      <th>Dr Wan Azizah Wan Ismail</th>\n",
       "      <th>Idris Jusoh</th>\n",
       "      <th>Najib Razak</th>\n",
       "      <th>Dr Wan Azizah Wan Ismail</th>\n",
       "      <th>Idris Jusoh</th>\n",
       "      <th>Najib Razak</th>\n",
       "      <th>Dr Wan Azizah Wan Ismail</th>\n",
       "      <th>...</th>\n",
       "      <th>Najib Razak</th>\n",
       "      <th>Dr Wan Azizah Wan Ismail</th>\n",
       "      <th>Idris Jusoh</th>\n",
       "      <th>Najib Razak</th>\n",
       "      <th>Dr Wan Azizah Wan Ismail</th>\n",
       "      <th>Idris Jusoh</th>\n",
       "      <th>Najib Razak</th>\n",
       "      <th>Dr Wan Azizah Wan Ismail</th>\n",
       "      <th>Idris Jusoh</th>\n",
       "      <th>Najib Razak</th>\n",
       "    </tr>\n",
       "    <tr>\n",
       "      <th>Post Number</th>\n",
       "      <th></th>\n",
       "      <th></th>\n",
       "      <th></th>\n",
       "      <th></th>\n",
       "      <th></th>\n",
       "      <th></th>\n",
       "      <th></th>\n",
       "      <th></th>\n",
       "      <th></th>\n",
       "      <th></th>\n",
       "      <th></th>\n",
       "      <th></th>\n",
       "      <th></th>\n",
       "      <th></th>\n",
       "      <th></th>\n",
       "      <th></th>\n",
       "      <th></th>\n",
       "      <th></th>\n",
       "      <th></th>\n",
       "      <th></th>\n",
       "      <th></th>\n",
       "    </tr>\n",
       "  </thead>\n",
       "  <tbody>\n",
       "    <tr>\n",
       "      <th>1</th>\n",
       "      <td>924662</td>\n",
       "      <td>297940</td>\n",
       "      <td>3380968</td>\n",
       "      <td>2018-02-13T12:00:00+0000</td>\n",
       "      <td>2018-02-13T11:49:04+0000</td>\n",
       "      <td>2018-02-12T14:27:08+0000</td>\n",
       "      <td>CABARAN RM50   Cabaran berbelanja di Pasar Tan...</td>\n",
       "      <td>Masihkah anda ingat lagi dengan pelajar PhD di...</td>\n",
       "      <td>Bila ada UMNO itu, Insya-Allah kita boleh meny...</td>\n",
       "      <td>1049</td>\n",
       "      <td>...</td>\n",
       "      <td>482</td>\n",
       "      <td>0.113447</td>\n",
       "      <td>0.028865</td>\n",
       "      <td>0.070512</td>\n",
       "      <td>0.020224</td>\n",
       "      <td>0.004028</td>\n",
       "      <td>0.009908</td>\n",
       "      <td>0.007030</td>\n",
       "      <td>0.000336</td>\n",
       "      <td>0.014256</td>\n",
       "    </tr>\n",
       "    <tr>\n",
       "      <th>2</th>\n",
       "      <td>924662</td>\n",
       "      <td>297940</td>\n",
       "      <td>3380968</td>\n",
       "      <td>2018-02-13T06:01:21+0000</td>\n",
       "      <td>2018-02-13T11:06:35+0000</td>\n",
       "      <td>2018-02-11T11:12:19+0000</td>\n",
       "      <td>Serahan bantahan terhadap syor kedua persempad...</td>\n",
       "      <td>Menyampaikan sumbangan kepada Komuniti Cina Pa...</td>\n",
       "      <td>Today is the last Sunday before the Lunar New ...</td>\n",
       "      <td>223</td>\n",
       "      <td>...</td>\n",
       "      <td>149</td>\n",
       "      <td>0.024117</td>\n",
       "      <td>0.005706</td>\n",
       "      <td>0.036735</td>\n",
       "      <td>0.002704</td>\n",
       "      <td>0.000671</td>\n",
       "      <td>0.003342</td>\n",
       "      <td>0.001190</td>\n",
       "      <td>0.000000</td>\n",
       "      <td>0.004407</td>\n",
       "    </tr>\n",
       "    <tr>\n",
       "      <th>3</th>\n",
       "      <td>924662</td>\n",
       "      <td>297940</td>\n",
       "      <td>3380968</td>\n",
       "      <td>2018-02-13T04:21:26+0000</td>\n",
       "      <td>2018-02-13T07:47:05+0000</td>\n",
       "      <td>2018-02-10T10:07:36+0000</td>\n",
       "      <td>Mesej jelas buat anak muda, khususnya yang ber...</td>\n",
       "      <td>Well done! #redesigingHE #soaringupwards #kpt ...</td>\n",
       "      <td>Alhamdulillah hasil pengurusan dan pelaburan b...</td>\n",
       "      <td>484</td>\n",
       "      <td>...</td>\n",
       "      <td>354</td>\n",
       "      <td>0.052343</td>\n",
       "      <td>0.013090</td>\n",
       "      <td>0.070187</td>\n",
       "      <td>0.006813</td>\n",
       "      <td>0.000671</td>\n",
       "      <td>0.007424</td>\n",
       "      <td>0.003893</td>\n",
       "      <td>0.000000</td>\n",
       "      <td>0.010470</td>\n",
       "    </tr>\n",
       "    <tr>\n",
       "      <th>4</th>\n",
       "      <td>924662</td>\n",
       "      <td>297940</td>\n",
       "      <td>3380968</td>\n",
       "      <td>2018-02-12T09:00:42+0000</td>\n",
       "      <td>2018-02-12T14:33:13+0000</td>\n",
       "      <td>2018-02-10T06:01:02+0000</td>\n",
       "      <td>Temubual bersama The Straits Times Singapore. ...</td>\n",
       "      <td>Congrats Universiti Putra Malaysia for being c...</td>\n",
       "      <td>Apa khabar orang Sarawak! Rasmikan Perhimpunan...</td>\n",
       "      <td>693</td>\n",
       "      <td>...</td>\n",
       "      <td>121</td>\n",
       "      <td>0.074946</td>\n",
       "      <td>0.027522</td>\n",
       "      <td>0.043035</td>\n",
       "      <td>0.003353</td>\n",
       "      <td>0.000671</td>\n",
       "      <td>0.005146</td>\n",
       "      <td>0.002704</td>\n",
       "      <td>0.000671</td>\n",
       "      <td>0.003579</td>\n",
       "    </tr>\n",
       "    <tr>\n",
       "      <th>5</th>\n",
       "      <td>924662</td>\n",
       "      <td>297940</td>\n",
       "      <td>3380968</td>\n",
       "      <td>2018-02-12T04:57:39+0000</td>\n",
       "      <td>2018-02-12T09:32:18+0000</td>\n",
       "      <td>2018-02-10T01:33:07+0000</td>\n",
       "      <td>Kita menggembleng tenaga bersama sama, demi ke...</td>\n",
       "      <td>Sesi Dialog YB Menteri Pendidikan Tinggi bersa...</td>\n",
       "      <td>Ada yang tak nak lepas tangan saya!</td>\n",
       "      <td>826</td>\n",
       "      <td>...</td>\n",
       "      <td>832</td>\n",
       "      <td>0.089330</td>\n",
       "      <td>0.012419</td>\n",
       "      <td>0.176281</td>\n",
       "      <td>0.008111</td>\n",
       "      <td>0.000671</td>\n",
       "      <td>0.008548</td>\n",
       "      <td>0.007787</td>\n",
       "      <td>0.000336</td>\n",
       "      <td>0.024608</td>\n",
       "    </tr>\n",
       "    <tr>\n",
       "      <th>6</th>\n",
       "      <td>924662</td>\n",
       "      <td>297940</td>\n",
       "      <td>3380968</td>\n",
       "      <td>2018-02-11T11:57:23+0000</td>\n",
       "      <td>2018-02-12T06:38:24+0000</td>\n",
       "      <td>2018-02-09T13:11:20+0000</td>\n",
       "      <td>Pakatan Harapan menyokong kempen 'Satukan Tena...</td>\n",
       "      <td>Dr Adlyka Annuar sumber inspirasi kepada kita ...</td>\n",
       "      <td>Walaupun ada kat seluruh Malaysia, tapi tentul...</td>\n",
       "      <td>353</td>\n",
       "      <td>...</td>\n",
       "      <td>653</td>\n",
       "      <td>0.038176</td>\n",
       "      <td>0.035578</td>\n",
       "      <td>0.165160</td>\n",
       "      <td>0.003244</td>\n",
       "      <td>0.021145</td>\n",
       "      <td>0.006300</td>\n",
       "      <td>0.000649</td>\n",
       "      <td>0.000671</td>\n",
       "      <td>0.019314</td>\n",
       "    </tr>\n",
       "    <tr>\n",
       "      <th>7</th>\n",
       "      <td>924662</td>\n",
       "      <td>297940</td>\n",
       "      <td>3380968</td>\n",
       "      <td>2018-02-11T05:06:12+0000</td>\n",
       "      <td>2018-02-12T05:09:54+0000</td>\n",
       "      <td>2018-02-09T09:53:26+0000</td>\n",
       "      <td>Apabila korupsi berleluasa dan rasuah jadi ama...</td>\n",
       "      <td>MAJLIS ANUGERAH PROFESOR ULUNG TAHUN  2017   T...</td>\n",
       "      <td>\"Saya antara peneroka terawal di Felda Maokil ...</td>\n",
       "      <td>545</td>\n",
       "      <td>...</td>\n",
       "      <td>293</td>\n",
       "      <td>0.058940</td>\n",
       "      <td>0.013090</td>\n",
       "      <td>0.069122</td>\n",
       "      <td>0.008544</td>\n",
       "      <td>0.001007</td>\n",
       "      <td>0.004644</td>\n",
       "      <td>0.003461</td>\n",
       "      <td>0.000336</td>\n",
       "      <td>0.008666</td>\n",
       "    </tr>\n",
       "    <tr>\n",
       "      <th>8</th>\n",
       "      <td>924662</td>\n",
       "      <td>297940</td>\n",
       "      <td>3380968</td>\n",
       "      <td>2018-02-11T04:44:00+0000</td>\n",
       "      <td>2018-02-10T12:00:00+0000</td>\n",
       "      <td>2018-02-09T08:43:44+0000</td>\n",
       "      <td>Bertandang ke Majlis Walimatul Urus anak YB Dr...</td>\n",
       "      <td>UPU Online - PENJAWAT AWAM  Penjawat awam yang...</td>\n",
       "      <td></td>\n",
       "      <td>240</td>\n",
       "      <td>...</td>\n",
       "      <td>32</td>\n",
       "      <td>0.025955</td>\n",
       "      <td>0.019131</td>\n",
       "      <td>0.012275</td>\n",
       "      <td>0.000541</td>\n",
       "      <td>0.005035</td>\n",
       "      <td>0.001006</td>\n",
       "      <td>0.000649</td>\n",
       "      <td>0.001007</td>\n",
       "      <td>0.000946</td>\n",
       "    </tr>\n",
       "    <tr>\n",
       "      <th>9</th>\n",
       "      <td>924662</td>\n",
       "      <td>297940</td>\n",
       "      <td>3380968</td>\n",
       "      <td>2018-02-11T03:50:07+0000</td>\n",
       "      <td>2018-02-09T14:00:00+0000</td>\n",
       "      <td>2018-02-09T04:45:31+0000</td>\n",
       "      <td>Pusat Khidmat Rakyat DUN Kajang membawa 50 pes...</td>\n",
       "      <td>Bahagian Pengurusan Kemasukan Pelajar (BPKP) a...</td>\n",
       "      <td>Di Pulau Pinang, tak cukup dengan skandal bang...</td>\n",
       "      <td>116</td>\n",
       "      <td>...</td>\n",
       "      <td>359</td>\n",
       "      <td>0.012545</td>\n",
       "      <td>0.007720</td>\n",
       "      <td>0.069566</td>\n",
       "      <td>0.000324</td>\n",
       "      <td>0.009062</td>\n",
       "      <td>0.006152</td>\n",
       "      <td>0.000216</td>\n",
       "      <td>0.001007</td>\n",
       "      <td>0.010618</td>\n",
       "    </tr>\n",
       "    <tr>\n",
       "      <th>10</th>\n",
       "      <td>924662</td>\n",
       "      <td>297940</td>\n",
       "      <td>3380968</td>\n",
       "      <td>2018-02-10T05:48:42+0000</td>\n",
       "      <td>2018-02-09T14:00:00+0000</td>\n",
       "      <td>2018-02-08T13:08:32+0000</td>\n",
       "      <td>Penuhi jemputan teman lama Sdri Thuraiya &amp; Yus...</td>\n",
       "      <td>KARNIVAL PENDIDIKAN TINGGI NEGARA 2018  Karniv...</td>\n",
       "      <td>Seronok nampak. Ada berita baik yang sedap hat...</td>\n",
       "      <td>198</td>\n",
       "      <td>...</td>\n",
       "      <td>885</td>\n",
       "      <td>0.021413</td>\n",
       "      <td>0.014768</td>\n",
       "      <td>0.234016</td>\n",
       "      <td>0.000865</td>\n",
       "      <td>0.005370</td>\n",
       "      <td>0.017658</td>\n",
       "      <td>0.000216</td>\n",
       "      <td>0.001678</td>\n",
       "      <td>0.026176</td>\n",
       "    </tr>\n",
       "  </tbody>\n",
       "</table>\n",
       "<p>10 rows × 27 columns</p>\n",
       "</div>"
      ],
      "text/plain": [
       "                          Total Fans                          \\\n",
       "Name        Dr Wan Azizah Wan Ismail Idris Jusoh Najib Razak   \n",
       "Post Number                                                    \n",
       "1                             924662      297940     3380968   \n",
       "2                             924662      297940     3380968   \n",
       "3                             924662      297940     3380968   \n",
       "4                             924662      297940     3380968   \n",
       "5                             924662      297940     3380968   \n",
       "6                             924662      297940     3380968   \n",
       "7                             924662      297940     3380968   \n",
       "8                             924662      297940     3380968   \n",
       "9                             924662      297940     3380968   \n",
       "10                            924662      297940     3380968   \n",
       "\n",
       "                            Post Date                            \\\n",
       "Name         Dr Wan Azizah Wan Ismail               Idris Jusoh   \n",
       "Post Number                                                       \n",
       "1            2018-02-13T12:00:00+0000  2018-02-13T11:49:04+0000   \n",
       "2            2018-02-13T06:01:21+0000  2018-02-13T11:06:35+0000   \n",
       "3            2018-02-13T04:21:26+0000  2018-02-13T07:47:05+0000   \n",
       "4            2018-02-12T09:00:42+0000  2018-02-12T14:33:13+0000   \n",
       "5            2018-02-12T04:57:39+0000  2018-02-12T09:32:18+0000   \n",
       "6            2018-02-11T11:57:23+0000  2018-02-12T06:38:24+0000   \n",
       "7            2018-02-11T05:06:12+0000  2018-02-12T05:09:54+0000   \n",
       "8            2018-02-11T04:44:00+0000  2018-02-10T12:00:00+0000   \n",
       "9            2018-02-11T03:50:07+0000  2018-02-09T14:00:00+0000   \n",
       "10           2018-02-10T05:48:42+0000  2018-02-09T14:00:00+0000   \n",
       "\n",
       "                                       \\\n",
       "Name                      Najib Razak   \n",
       "Post Number                             \n",
       "1            2018-02-12T14:27:08+0000   \n",
       "2            2018-02-11T11:12:19+0000   \n",
       "3            2018-02-10T10:07:36+0000   \n",
       "4            2018-02-10T06:01:02+0000   \n",
       "5            2018-02-10T01:33:07+0000   \n",
       "6            2018-02-09T13:11:20+0000   \n",
       "7            2018-02-09T09:53:26+0000   \n",
       "8            2018-02-09T08:43:44+0000   \n",
       "9            2018-02-09T04:45:31+0000   \n",
       "10           2018-02-08T13:08:32+0000   \n",
       "\n",
       "                                                      Headline  \\\n",
       "Name                                  Dr Wan Azizah Wan Ismail   \n",
       "Post Number                                                      \n",
       "1            CABARAN RM50   Cabaran berbelanja di Pasar Tan...   \n",
       "2            Serahan bantahan terhadap syor kedua persempad...   \n",
       "3            Mesej jelas buat anak muda, khususnya yang ber...   \n",
       "4            Temubual bersama The Straits Times Singapore. ...   \n",
       "5            Kita menggembleng tenaga bersama sama, demi ke...   \n",
       "6            Pakatan Harapan menyokong kempen 'Satukan Tena...   \n",
       "7            Apabila korupsi berleluasa dan rasuah jadi ama...   \n",
       "8            Bertandang ke Majlis Walimatul Urus anak YB Dr...   \n",
       "9            Pusat Khidmat Rakyat DUN Kajang membawa 50 pes...   \n",
       "10           Penuhi jemputan teman lama Sdri Thuraiya & Yus...   \n",
       "\n",
       "                                                                \\\n",
       "Name                                               Idris Jusoh   \n",
       "Post Number                                                      \n",
       "1            Masihkah anda ingat lagi dengan pelajar PhD di...   \n",
       "2            Menyampaikan sumbangan kepada Komuniti Cina Pa...   \n",
       "3            Well done! #redesigingHE #soaringupwards #kpt ...   \n",
       "4            Congrats Universiti Putra Malaysia for being c...   \n",
       "5            Sesi Dialog YB Menteri Pendidikan Tinggi bersa...   \n",
       "6            Dr Adlyka Annuar sumber inspirasi kepada kita ...   \n",
       "7            MAJLIS ANUGERAH PROFESOR ULUNG TAHUN  2017   T...   \n",
       "8            UPU Online - PENJAWAT AWAM  Penjawat awam yang...   \n",
       "9            Bahagian Pengurusan Kemasukan Pelajar (BPKP) a...   \n",
       "10           KARNIVAL PENDIDIKAN TINGGI NEGARA 2018  Karniv...   \n",
       "\n",
       "                                                                \\\n",
       "Name                                               Najib Razak   \n",
       "Post Number                                                      \n",
       "1            Bila ada UMNO itu, Insya-Allah kita boleh meny...   \n",
       "2            Today is the last Sunday before the Lunar New ...   \n",
       "3            Alhamdulillah hasil pengurusan dan pelaburan b...   \n",
       "4            Apa khabar orang Sarawak! Rasmikan Perhimpunan...   \n",
       "5                          Ada yang tak nak lepas tangan saya!   \n",
       "6            Walaupun ada kat seluruh Malaysia, tapi tentul...   \n",
       "7            \"Saya antara peneroka terawal di Felda Maokil ...   \n",
       "8                                                                \n",
       "9            Di Pulau Pinang, tak cukup dengan skandal bang...   \n",
       "10           Seronok nampak. Ada berita baik yang sedap hat...   \n",
       "\n",
       "                               Likes     ...        Comments  \\\n",
       "Name        Dr Wan Azizah Wan Ismail     ...     Najib Razak   \n",
       "Post Number                              ...                   \n",
       "1                               1049     ...             482   \n",
       "2                                223     ...             149   \n",
       "3                                484     ...             354   \n",
       "4                                693     ...             121   \n",
       "5                                826     ...             832   \n",
       "6                                353     ...             653   \n",
       "7                                545     ...             293   \n",
       "8                                240     ...              32   \n",
       "9                                116     ...             359   \n",
       "10                               198     ...             885   \n",
       "\n",
       "                          Rel. Likes                          \\\n",
       "Name        Dr Wan Azizah Wan Ismail Idris Jusoh Najib Razak   \n",
       "Post Number                                                    \n",
       "1                           0.113447    0.028865    0.070512   \n",
       "2                           0.024117    0.005706    0.036735   \n",
       "3                           0.052343    0.013090    0.070187   \n",
       "4                           0.074946    0.027522    0.043035   \n",
       "5                           0.089330    0.012419    0.176281   \n",
       "6                           0.038176    0.035578    0.165160   \n",
       "7                           0.058940    0.013090    0.069122   \n",
       "8                           0.025955    0.019131    0.012275   \n",
       "9                           0.012545    0.007720    0.069566   \n",
       "10                          0.021413    0.014768    0.234016   \n",
       "\n",
       "                         Rel. Shares                          \\\n",
       "Name        Dr Wan Azizah Wan Ismail Idris Jusoh Najib Razak   \n",
       "Post Number                                                    \n",
       "1                           0.020224    0.004028    0.009908   \n",
       "2                           0.002704    0.000671    0.003342   \n",
       "3                           0.006813    0.000671    0.007424   \n",
       "4                           0.003353    0.000671    0.005146   \n",
       "5                           0.008111    0.000671    0.008548   \n",
       "6                           0.003244    0.021145    0.006300   \n",
       "7                           0.008544    0.001007    0.004644   \n",
       "8                           0.000541    0.005035    0.001006   \n",
       "9                           0.000324    0.009062    0.006152   \n",
       "10                          0.000865    0.005370    0.017658   \n",
       "\n",
       "                       Rel. Comments                          \n",
       "Name        Dr Wan Azizah Wan Ismail Idris Jusoh Najib Razak  \n",
       "Post Number                                                   \n",
       "1                           0.007030    0.000336    0.014256  \n",
       "2                           0.001190    0.000000    0.004407  \n",
       "3                           0.003893    0.000000    0.010470  \n",
       "4                           0.002704    0.000671    0.003579  \n",
       "5                           0.007787    0.000336    0.024608  \n",
       "6                           0.000649    0.000671    0.019314  \n",
       "7                           0.003461    0.000336    0.008666  \n",
       "8                           0.000649    0.001007    0.000946  \n",
       "9                           0.000216    0.001007    0.010618  \n",
       "10                          0.000216    0.001678    0.026176  \n",
       "\n",
       "[10 rows x 27 columns]"
      ]
     },
     "execution_count": 51,
     "metadata": {},
     "output_type": "execute_result"
    }
   ],
   "source": [
    "# The unstack method pivots the index labels\n",
    "# and lets you get data columns grouped by artist\n",
    "politician.unstack(level=0)"
   ]
  },
  {
   "cell_type": "code",
   "execution_count": 52,
   "metadata": {
    "collapsed": false,
    "deletable": true,
    "editable": true
   },
   "outputs": [
    {
     "data": {
      "text/plain": [
       "<matplotlib.text.Text at 0x1d26ae35da0>"
      ]
     },
     "execution_count": 52,
     "metadata": {},
     "output_type": "execute_result"
    },
    {
     "data": {
      "image/png": "[encoded data removed]",
      "text/plain": [
       "<matplotlib.figure.Figure at 0x1d26add8fd0>"
      ]
     },
     "metadata": {},
     "output_type": "display_data"
    }
   ],
   "source": [
    "# Plot the comparative reactions to each artist's last 10 Facebook posts\n",
    "plot = politician.unstack(level=0)['Likes'].plot(kind='bar', subplots=False, figsize=(10,5), width=0.8)\n",
    "plot.set_xlabel('10 Latest Posts')\n",
    "plot.set_ylabel('Number of Likes Received')"
   ]
  },
  {
   "cell_type": "code",
   "execution_count": 53,
   "metadata": {
    "collapsed": false,
    "deletable": true,
    "editable": true
   },
   "outputs": [
    {
     "data": {
      "text/plain": [
       "<matplotlib.text.Text at 0x1d26af1d940>"
      ]
     },
     "execution_count": 53,
     "metadata": {},
     "output_type": "execute_result"
    },
    {
     "data": {
      "image/png": "[encoded data removed]",
      "text/plain": [
       "<matplotlib.figure.Figure at 0x1d26aeeac88>"
      ]
     },
     "metadata": {},
     "output_type": "display_data"
    }
   ],
   "source": [
    "# Plot the engagement of each artist's Facebook fan base to the last 10 posts\n",
    "plot = politician.unstack(level=0)['Rel. Likes'].plot(kind='bar', subplots=False, figsize=(10,5), width=0.8)\n",
    "plot.set_xlabel('10 Latest Posts')\n",
    "plot.set_ylabel('Likes / Total Fans (%)')"
   ]
  },
  {
   "cell_type": "markdown",
   "metadata": {
    "deletable": true,
    "editable": true
   },
   "source": [
    "## Calculate average engagement"
   ]
  },
  {
   "cell_type": "code",
   "execution_count": 54,
   "metadata": {
    "collapsed": false,
    "deletable": true,
    "editable": true
   },
   "outputs": [
    {
     "name": "stdout",
     "output_type": "stream",
     "text": [
      "Average Likes / Total Fans\n",
      "Name\n",
      "Dr Wan Azizah Wan Ismail    0.051121\n",
      "Idris Jusoh                 0.017789\n",
      "Najib Razak                 0.094689\n",
      "dtype: float64\n",
      "\n",
      "Average Shares / Total Fans\n",
      "Name\n",
      "Dr Wan Azizah Wan Ismail    0.005472\n",
      "Idris Jusoh                 0.004833\n",
      "Najib Razak                 0.007013\n",
      "dtype: float64\n",
      "\n",
      "Average Comments / Total Fans\n",
      "Name\n",
      "Dr Wan Azizah Wan Ismail    0.002779\n",
      "Idris Jusoh                 0.000604\n",
      "Najib Razak                 0.012304\n",
      "dtype: float64\n"
     ]
    }
   ],
   "source": [
    "print('Average Likes / Total Fans')\n",
    "print(politician.unstack(level=0)['Rel. Likes'].mean())\n",
    "\n",
    "print('\\nAverage Shares / Total Fans')\n",
    "print(politician.unstack(level=0)['Rel. Shares'].mean())\n",
    "\n",
    "print('\\nAverage Comments / Total Fans')\n",
    "print(politician.unstack(level=0)['Rel. Comments'].mean())"
   ]
  },
  {
   "cell_type": "code",
   "execution_count": null,
   "metadata": {
    "collapsed": true,
    "deletable": true,
    "editable": true
   },
   "outputs": [],
   "source": []
  },
  {
   "cell_type": "code",
   "execution_count": null,
   "metadata": {
    "collapsed": true,
    "deletable": true,
    "editable": true
   },
   "outputs": [],
   "source": []
  }
 ],
 "metadata": {
  "kernelspec": {
   "display_name": "Python 3",
   "language": "python",
   "name": "python3"
  },
  "language_info": {
   "codemirror_mode": {
    "name": "ipython",
    "version": 3
   },
   "file_extension": ".py",
   "mimetype": "text/x-python",
   "name": "python",
   "nbconvert_exporter": "python",
   "pygments_lexer": "ipython3",
   "version": "3.5.2"
  }
 },
 "nbformat": 4,
 "nbformat_minor": 0
}
